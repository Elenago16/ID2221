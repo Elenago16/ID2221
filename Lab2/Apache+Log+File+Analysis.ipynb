{
 "cells": [
  {
   "cell_type": "markdown",
   "metadata": {},
   "source": [
    "# ID2221: Data Intensive Computing\n",
    "# Lab 2 - Part 2: Apache Web Server Log Analysis\n",
    "## (Updated 2017-09-23)\n",
    "\n",
    "This lab will demonstrate how to perform web server log analysis with Spark.\n",
    "\n",
    "Log data can quickly get very large and it usually contains a rich set of information. It comes from many sources, such as web, file, and compute servers, application logs, user-generated content,  and can be used for monitoring servers, improving business and customer intelligence, building recommendation systems, fraud detection, and much more. This lab you will analyse real-world text-based production logs using Spark!\n"
   ]
  },
  {
   "cell_type": "markdown",
   "metadata": {},
   "source": [
    "## Apache Web Server Log file format\n",
    "\n",
    "The log file that we use for this assignment are in the Apache Common Log Format (CLF). The log file entries produced in CLF will look something like this: 127.0.0.1 - - [01/Aug/1995:00:00:01 -0400] \"GET /images/launch-logo.gif HTTP/1.0\" 200 1839\n",
    "\n",
    "Each log entry (line in the log file) represents an event that happened. Each part of this log entry is described below.\n",
    "\n",
    "- 127.0.0.1: this is the IP address (or host name, if available) of the client (remote host) which made the request to the server.\n",
    "- -: the \"hyphen\" in the output indicates that the requested piece of information (user identity from remote machine) is not available.\n",
    "- -: the \"hyphen\" in the output indicates that the requested piece of information (user identity from local logon) is not available.\n",
    "- [01/Aug/1995:00:00:01 -0400]: the time that the server finished processing the request. The format is: [day/month/year:hour:minute:second timezone].\n",
    "- \"GET /images/launch-logo.gif HTTP/1.0\": this is the first line of the request string from the client. It consists of a three components: the request method (e.g., GET, POST, etc.), the endpoint, and the client protocol version.\n",
    "- 200: this is the status code that the server sends back to the client. This information is very valuable, because it reveals whether the request resulted in a successful response (codes beginning in 2), a redirection (codes beginning in 3), an error caused by the client (codes beginning in 4), or an error in the server (codes beginning in 5). The full list of possible status codes can be found in the HTTP specification (RFC 2616 section 10).\n",
    "- 1839: the last entry indicates the size of the object returned to the client, not including the response headers. If no content was returned to the client, this value will be \"-\" (or sometimes 0).\n",
    "\n",
    "For this lab, we will use a data set from NASA Kennedy Space Center WWW server in Florida. The full data set is freely available (http://ita.ee.lbl.gov/html/contrib/NASA-HTTP.html) and contains two month's of all HTTP requests. We are using a subset that only contains several days worth of requests.\n"
   ]
  },
  {
   "cell_type": "markdown",
   "metadata": {},
   "source": [
    "You can find help using the Spark API at the official documentation here: https://spark.apache.org/docs/latest/api/python/pyspark.html"
   ]
  },
  {
   "cell_type": "markdown",
   "metadata": {},
   "source": [
    "# Imports and SparkSession\n",
    "\n",
    "We start by importing some modules that we will use. Next we create a SparkSession."
   ]
  },
  {
   "cell_type": "code",
   "execution_count": 1,
   "metadata": {},
   "outputs": [],
   "source": [
    "from pyspark.sql import SparkSession\n",
    "from pyspark.sql.types import *\n",
    "from pyspark.sql.functions import *\n",
    "from pyspark.sql import Row\n",
    "from datetime import datetime\n",
    "import re"
   ]
  },
  {
   "cell_type": "code",
   "execution_count": 2,
   "metadata": {},
   "outputs": [],
   "source": [
    "spark = SparkSession.builder \\\n",
    "    .master('local[*]') \\\n",
    "    .appName('Log Analysis') \\\n",
    "    .getOrCreate()"
   ]
  },
  {
   "cell_type": "markdown",
   "metadata": {},
   "source": [
    "# Loading the log file into a DataFrame\n",
    "\n",
    "In order to load the log file into a DataFrame we need to **parse** each line to **extract** interesting **fields**.\n",
    "\n",
    "The steps are as follows:\n",
    "1. Load the log file into an RDD\n",
    "2. Use the `map` function to parse each line and convert it to a `Row` object.\n",
    "3. This will result in a new RDD of `Row` objects that can be converted to a `DataFrame`\n",
    "\n",
    "\n",
    "You can use the parse function below to convert a log line into a `Row` object. Using the Apache Common Log Format as defined above, we create a regular expression pattern `APACHE_ACCESS_LOG_PATTERN` to extract fields of the log line. A '-' value in the content size field is cleaned up by substituting it with 0. The function converts the log line's date string into a Python `datetime` object using the given `DATETIME_PARSE_PATTERN`.\n"
   ]
  },
  {
   "cell_type": "code",
   "execution_count": 3,
   "metadata": {},
   "outputs": [],
   "source": [
    "# This is the regular expression for Apache webserver access log\n",
    "APACHE_ACCESS_LOG_PATTERN = '^(\\S+) (\\S+) (\\S+) \\[([\\w:/]+\\s[+\\-]\\d{4})\\] \"(\\S+) (\\S+)\\s*(\\S*)\\s*\" (\\d{3}) (\\S+)'\n",
    "DATETIME_PARSE_PATTERN = '%d/%b/%Y:%H:%M:%S %z'\n",
    "\n",
    "# Returns a Row containing the Apache Access Log info\n",
    "def parse_apache_log_line(logline):\n",
    "    match = re.search(APACHE_ACCESS_LOG_PATTERN, logline)\n",
    "    if match is None:\n",
    "        return None\n",
    "    date_obj = datetime.strptime(match.group(4),DATETIME_PARSE_PATTERN)\n",
    "    return Row(\n",
    "        ipAddress    = match.group(1),\n",
    "        clientIdentd = match.group(2),\n",
    "        userId       = match.group(3),\n",
    "        dateTime     = match.group(4),\n",
    "        timestamp    = date_obj.timestamp(),\n",
    "        date         = date_obj.strftime('%Y-%m-%d'),\n",
    "        method       = match.group(5),\n",
    "        endpoint     = match.group(6),\n",
    "        protocol     = match.group(7),\n",
    "        responseCode = int(match.group(8)),\n",
    "        contentSize  = 0 if match.group(9) == '-' else int(match.group(9)))"
   ]
  },
  {
   "cell_type": "markdown",
   "metadata": {},
   "source": [
    "Test that the function is working correctly by giving it a line from the fime"
   ]
  },
  {
   "cell_type": "code",
   "execution_count": 4,
   "metadata": {},
   "outputs": [
    {
     "data": {
      "text/plain": [
       "Row(clientIdentd='-', contentSize=11853, date='1995-08-01', dateTime='01/Aug/1995:00:00:10 -0400', endpoint='/images/launchmedium.gif', ipAddress='piweba4y.prodigy.com', method='GET', protocol='HTTP/1.0', responseCode=200, timestamp=807249610.0, userId='-')"
      ]
     },
     "execution_count": 4,
     "metadata": {},
     "output_type": "execute_result"
    }
   ],
   "source": [
    "test_line = 'piweba4y.prodigy.com - - [01/Aug/1995:00:00:10 -0400] \"GET /images/launchmedium.gif HTTP/1.0\" 200 11853'\n",
    "test_row = parse_apache_log_line(test_line)\n",
    "test_row"
   ]
  },
  {
   "cell_type": "markdown",
   "metadata": {},
   "source": [
    "### Task 1: Load the Log File\n",
    "Create an RDD called `access_logs_raw` by reading the file `data/apache.log` using the `textFile()` method of the RDD api\n"
   ]
  },
  {
   "cell_type": "code",
   "execution_count": 5,
   "metadata": {},
   "outputs": [],
   "source": [
    "access_logs_raw = spark.sparkContext.textFile('data/apache.log')"
   ]
  },
  {
   "cell_type": "markdown",
   "metadata": {},
   "source": [
    "### Task 2: A Simple Count\n",
    "How many lines did we read? Show the number of elements in this RDD"
   ]
  },
  {
   "cell_type": "code",
   "execution_count": 6,
   "metadata": {},
   "outputs": [
    {
     "data": {
      "text/plain": [
       "470000"
      ]
     },
     "execution_count": 6,
     "metadata": {},
     "output_type": "execute_result"
    }
   ],
   "source": [
    "access_logs_raw.count()"
   ]
  },
  {
   "cell_type": "markdown",
   "metadata": {},
   "source": [
    "### Task 3: Parsed RDD\n",
    "Use `parse_apache_log_line()` and the `map()` function to create a new RDD called `access_logs_parsed`.\n",
    "\n",
    "Note that the parse function returns `None` if it fails to parse a log line! It is good idea to filter those out by using the `filter` function after the `map`. You can try use this `filter(lambda x: x is not None)`"
   ]
  },
  {
   "cell_type": "code",
   "execution_count": 7,
   "metadata": {},
   "outputs": [],
   "source": [
    "access_logs_parsed = access_logs_raw.map(lambda x: parse_apache_log_line(x)).filter(lambda x: x is not None)"
   ]
  },
  {
   "cell_type": "markdown",
   "metadata": {},
   "source": [
    "### Task 4: Creating the DataFrame\n",
    "\n",
    "1. Create a DataFrame called `access_logs_df` by converting the RDD `access_logs_parsed` either by `.toDF()` or `spark.createDataFrame()`\n",
    "\n",
    "2. Cache it since we will be using it many times"
   ]
  },
  {
   "cell_type": "code",
   "execution_count": 8,
   "metadata": {},
   "outputs": [],
   "source": [
    "access_logs_df = access_logs_parsed.toDF()"
   ]
  },
  {
   "cell_type": "code",
   "execution_count": 9,
   "metadata": {},
   "outputs": [
    {
     "data": {
      "text/plain": [
       "DataFrame[clientIdentd: string, contentSize: bigint, date: string, dateTime: string, endpoint: string, ipAddress: string, method: string, protocol: string, responseCode: bigint, timestamp: double, userId: string]"
      ]
     },
     "execution_count": 9,
     "metadata": {},
     "output_type": "execute_result"
    }
   ],
   "source": [
    "access_logs_df.cache()"
   ]
  },
  {
   "cell_type": "markdown",
   "metadata": {},
   "source": [
    "### Task 5: Explore the Log DataFrame\n",
    "\n",
    "1. How many rows do we have in `access_logs_df`\n",
    "2. Orint the schema of `access_logs_df`\n",
    "3. Show 10 rows of `access_logs_df`"
   ]
  },
  {
   "cell_type": "code",
   "execution_count": 10,
   "metadata": {},
   "outputs": [
    {
     "data": {
      "text/plain": [
       "470000"
      ]
     },
     "execution_count": 10,
     "metadata": {},
     "output_type": "execute_result"
    }
   ],
   "source": [
    "access_logs_df.count()"
   ]
  },
  {
   "cell_type": "code",
   "execution_count": 11,
   "metadata": {},
   "outputs": [
    {
     "name": "stdout",
     "output_type": "stream",
     "text": [
      "root\n",
      " |-- clientIdentd: string (nullable = true)\n",
      " |-- contentSize: long (nullable = true)\n",
      " |-- date: string (nullable = true)\n",
      " |-- dateTime: string (nullable = true)\n",
      " |-- endpoint: string (nullable = true)\n",
      " |-- ipAddress: string (nullable = true)\n",
      " |-- method: string (nullable = true)\n",
      " |-- protocol: string (nullable = true)\n",
      " |-- responseCode: long (nullable = true)\n",
      " |-- timestamp: double (nullable = true)\n",
      " |-- userId: string (nullable = true)\n",
      "\n"
     ]
    }
   ],
   "source": [
    "access_logs_df.printSchema()"
   ]
  },
  {
   "cell_type": "code",
   "execution_count": 12,
   "metadata": {},
   "outputs": [
    {
     "data": {
      "text/plain": [
       "[Row(clientIdentd='-', contentSize=1839, date='1995-08-01', dateTime='01/Aug/1995:00:00:01 -0400', endpoint='/shuttle/missions/sts-68/news/sts-68-mcc-05.txt', ipAddress='in24.inetnebr.com', method='GET', protocol='HTTP/1.0', responseCode=200, timestamp=807249601.0, userId='-'),\n",
       " Row(clientIdentd='-', contentSize=0, date='1995-08-01', dateTime='01/Aug/1995:00:00:07 -0400', endpoint='/', ipAddress='uplherc.upl.com', method='GET', protocol='HTTP/1.0', responseCode=304, timestamp=807249607.0, userId='-'),\n",
       " Row(clientIdentd='-', contentSize=0, date='1995-08-01', dateTime='01/Aug/1995:00:00:08 -0400', endpoint='/images/ksclogo-medium.gif', ipAddress='uplherc.upl.com', method='GET', protocol='HTTP/1.0', responseCode=304, timestamp=807249608.0, userId='-'),\n",
       " Row(clientIdentd='-', contentSize=0, date='1995-08-01', dateTime='01/Aug/1995:00:00:08 -0400', endpoint='/images/MOSAIC-logosmall.gif', ipAddress='uplherc.upl.com', method='GET', protocol='HTTP/1.0', responseCode=304, timestamp=807249608.0, userId='-'),\n",
       " Row(clientIdentd='-', contentSize=0, date='1995-08-01', dateTime='01/Aug/1995:00:00:08 -0400', endpoint='/images/USA-logosmall.gif', ipAddress='uplherc.upl.com', method='GET', protocol='HTTP/1.0', responseCode=304, timestamp=807249608.0, userId='-'),\n",
       " Row(clientIdentd='-', contentSize=1713, date='1995-08-01', dateTime='01/Aug/1995:00:00:09 -0400', endpoint='/images/launch-logo.gif', ipAddress='ix-esc-ca2-07.ix.netcom.com', method='GET', protocol='HTTP/1.0', responseCode=200, timestamp=807249609.0, userId='-'),\n",
       " Row(clientIdentd='-', contentSize=0, date='1995-08-01', dateTime='01/Aug/1995:00:00:10 -0400', endpoint='/images/WORLD-logosmall.gif', ipAddress='uplherc.upl.com', method='GET', protocol='HTTP/1.0', responseCode=304, timestamp=807249610.0, userId='-'),\n",
       " Row(clientIdentd='-', contentSize=1687, date='1995-08-01', dateTime='01/Aug/1995:00:00:10 -0400', endpoint='/history/skylab/skylab.html', ipAddress='slppp6.intermind.net', method='GET', protocol='HTTP/1.0', responseCode=200, timestamp=807249610.0, userId='-'),\n",
       " Row(clientIdentd='-', contentSize=11853, date='1995-08-01', dateTime='01/Aug/1995:00:00:10 -0400', endpoint='/images/launchmedium.gif', ipAddress='piweba4y.prodigy.com', method='GET', protocol='HTTP/1.0', responseCode=200, timestamp=807249610.0, userId='-'),\n",
       " Row(clientIdentd='-', contentSize=9202, date='1995-08-01', dateTime='01/Aug/1995:00:00:11 -0400', endpoint='/history/skylab/skylab-small.gif', ipAddress='slppp6.intermind.net', method='GET', protocol='HTTP/1.0', responseCode=200, timestamp=807249611.0, userId='-')]"
      ]
     },
     "execution_count": 12,
     "metadata": {},
     "output_type": "execute_result"
    }
   ],
   "source": [
    "access_logs_df.take(10)"
   ]
  },
  {
   "cell_type": "markdown",
   "metadata": {
    "collapsed": true
   },
   "source": [
    "### Task 6: Distinct Clients\n",
    "\n",
    "How many distinct clients do we have?\n",
    "We can calculate this from the log by **counting** how many **distinct** **ipAddress** we have.\n",
    "\n",
    "You can use `.select('ipAddress')` to transform the DataFrame to single ipAddress column, `.distinct()` to get DataFrame with distinct IPs, then `.count()` to coutn them."
   ]
  },
  {
   "cell_type": "code",
   "execution_count": 13,
   "metadata": {},
   "outputs": [
    {
     "data": {
      "text/plain": [
       "26672"
      ]
     },
     "execution_count": 13,
     "metadata": {},
     "output_type": "execute_result"
    }
   ],
   "source": [
    "access_logs_df.select('ipAddress').distinct().count()"
   ]
  },
  {
   "cell_type": "markdown",
   "metadata": {},
   "source": [
    "### Task 7: Simple Statistics\n",
    "\n",
    "Content Size in an interesting field in our log file. It shows how many byted get servd by the web server.\n",
    "\n",
    "Show the minimum, average, and maximum content size.\n",
    "\n",
    "You can apply simple functions such as `min()`, `avg()`, ... to colums in your `.select()` function. E.g., `df.select(fn1('colName'), fn2('colName')).show()`"
   ]
  },
  {
   "cell_type": "code",
   "execution_count": 14,
   "metadata": {
    "scrolled": true
   },
   "outputs": [
    {
     "name": "stdout",
     "output_type": "stream",
     "text": [
      "+----------------+------------------+----------------+\n",
      "|min(contentSize)|  avg(contentSize)|max(contentSize)|\n",
      "+----------------+------------------+----------------+\n",
      "|               0|17528.068382978723|         3421948|\n",
      "+----------------+------------------+----------------+\n",
      "\n"
     ]
    }
   ],
   "source": [
    "access_logs_df.select(min('contentSize'), avg('contentSize'), max('contentSize')).show()"
   ]
  },
  {
   "cell_type": "markdown",
   "metadata": {},
   "source": [
    "### Task 8: HTTP Response Codes\n",
    "\n",
    "The [HTTP Response Code](https://en.wikipedia.org/wiki/List_of_HTTP_status_codes) givs us more information about the status of each request. For example, 200 means OK, 403 means forbidden, and 500 means internal server error.\n",
    "\n",
    "We want to count how many times each response code appeared in our log file.\n",
    "\n",
    "To do so, **group** the data **by** **`responseCode`** then use `.count()` to count the rows in each group.\n",
    "Call this DataFrame `codes`"
   ]
  },
  {
   "cell_type": "code",
   "execution_count": 15,
   "metadata": {},
   "outputs": [],
   "source": [
    "codes = access_logs_df.groupBy('responseCode').count()"
   ]
  },
  {
   "cell_type": "code",
   "execution_count": 16,
   "metadata": {},
   "outputs": [
    {
     "name": "stdout",
     "output_type": "stream",
     "text": [
      "+------------+------+\n",
      "|responseCode| count|\n",
      "+------------+------+\n",
      "|         304| 33660|\n",
      "|         404|  3137|\n",
      "|         500|     2|\n",
      "|         501|     3|\n",
      "|         403|    21|\n",
      "|         200|426183|\n",
      "|         302|  6994|\n",
      "+------------+------+\n",
      "\n"
     ]
    }
   ],
   "source": [
    "codes.show()"
   ]
  },
  {
   "cell_type": "markdown",
   "metadata": {},
   "source": [
    "### Task 9: Adding Columns\n",
    "\n",
    "The `codes` DataFrame gives us useful insigts but it might be easier to understand if instead of count we use percentage.\n",
    "\n",
    "We wand to add a column `percentage` to the `codes` DataFrame that shows the percentage instead of count.\n",
    "\n",
    "To do that, we use `withColumn()`\n",
    "\n",
    "**`withColumn(colName, col)`**\n",
    "Returns a new DataFrame by adding a column or replacing the existing column that has the same name.\n",
    "\n",
    "Parameters:\t\n",
    "- `colName` – string, name of the new column.\n",
    "- `col` – a Column expression for the new column.\n",
    "\n",
    "A column expressing returns a new columm calculated by applying some of the many functions supported by spark on existing columns. In the expression you refer to other columns by name using the col('name') function.\n",
    "\n",
    "For example the `calc_percentage` expression below uses `round(), * , / ` to calculate the percentage from the `col('count')`\n",
    "\n",
    "Use `.withColumn()` to add the percentage column using the `calc_percentage` expression. Then show the data."
   ]
  },
  {
   "cell_type": "code",
   "execution_count": 17,
   "metadata": {},
   "outputs": [],
   "source": [
    "total = access_logs_df.count()"
   ]
  },
  {
   "cell_type": "code",
   "execution_count": 18,
   "metadata": {},
   "outputs": [],
   "source": [
    "calc_percentage = round(col('count') * 100 / total, 2)"
   ]
  },
  {
   "cell_type": "code",
   "execution_count": 19,
   "metadata": {},
   "outputs": [
    {
     "name": "stdout",
     "output_type": "stream",
     "text": [
      "+------------+------+----------+\n",
      "|responseCode| count|percentage|\n",
      "+------------+------+----------+\n",
      "|         304| 33660|      7.16|\n",
      "|         404|  3137|      0.67|\n",
      "|         500|     2|       0.0|\n",
      "|         501|     3|       0.0|\n",
      "|         403|    21|       0.0|\n",
      "|         200|426183|     90.68|\n",
      "|         302|  6994|      1.49|\n",
      "+------------+------+----------+\n",
      "\n"
     ]
    }
   ],
   "source": [
    "codes.withColumn(\"percentage\", calc_percentage).show()"
   ]
  },
  {
   "cell_type": "markdown",
   "metadata": {},
   "source": [
    "### Task 10: Top 10\n",
    "\n",
    "We want to find our **top 10 users**. These are the users that accessed our service the most. Since each row represents a single access. We can find our users by counting the rows for each IP address, sort them, and take top 10.\n",
    "\n",
    "We can use `.groupBy('ipAddress')` to group the data by IP address, and `.count()` to count each group.\n",
    "Then we sort descending by `.sort('count', ascending=False)`, and get first 10 only by `.limit(10)`\n",
    "\n",
    "Call this DataFrame `gold_customers` since we will be using it later.\n",
    "\n",
    "When you are done, print the top 10 users."
   ]
  },
  {
   "cell_type": "code",
   "execution_count": 20,
   "metadata": {},
   "outputs": [],
   "source": [
    "gold_customers = access_logs_df.groupBy('ipAddress').count().sort('count', ascending=False).limit(10)"
   ]
  },
  {
   "cell_type": "code",
   "execution_count": 21,
   "metadata": {},
   "outputs": [
    {
     "name": "stdout",
     "output_type": "stream",
     "text": [
      "+--------------------+-----+\n",
      "|           ipAddress|count|\n",
      "+--------------------+-----+\n",
      "|  edams.ksc.nasa.gov| 2100|\n",
      "|piweba5y.prodigy.com| 1755|\n",
      "|        163.206.89.4| 1419|\n",
      "|www-relay.pa-x.de...| 1333|\n",
      "|www-d1.proxy.aol.com| 1318|\n",
      "|www-b5.proxy.aol.com| 1292|\n",
      "|www-a2.proxy.aol.com| 1282|\n",
      "|piweba3y.prodigy.com| 1272|\n",
      "|www-b4.proxy.aol.com| 1269|\n",
      "|www-d2.proxy.aol.com| 1260|\n",
      "+--------------------+-----+\n",
      "\n"
     ]
    }
   ],
   "source": [
    "gold_customers.show()"
   ]
  },
  {
   "cell_type": "markdown",
   "metadata": {
    "collapsed": true
   },
   "source": [
    "### Task 11: SQL\n",
    "\n",
    "SQL is a powerful language that you can use in Spark to query DataFrames. The result of a query is returned as a new DataFrame.\n",
    "\n",
    "For example, the SQL statement below will return the date/time and endpoint for operations that returned response code 403=forbidden.\n",
    "\n",
    "Use Spark to **execute this SQL statement** then show its contents.\n",
    "\n",
    "The `.show()` method truncates long strings by default. If you want to see the entire string, pass `False` as a second parameter.\n"
   ]
  },
  {
   "cell_type": "code",
   "execution_count": 22,
   "metadata": {},
   "outputs": [
    {
     "name": "stdout",
     "output_type": "stream",
     "text": [
      "+--------------------------+--------------------------------------------------------+\n",
      "|dateTime                  |endpoint                                                |\n",
      "+--------------------------+--------------------------------------------------------+\n",
      "|01/Aug/1995:00:38:01 -0400|/ksc.html/facts/about_ksc.html                          |\n",
      "|04/Aug/1995:01:02:18 -0400|/ksc.html/shuttle/technology/sts-newsref/stsref-toc.html|\n",
      "|05/Aug/1995:14:03:54 -0400|/ksc.html/shuttle/missions/missions.html                |\n",
      "|05/Aug/1995:14:04:08 -0400|/ksc.html/shuttle/technology/sts-newsref/stsref-toc.html|\n",
      "|06/Aug/1995:08:11:30 -0400|/ksc.html/facilities/tour.html                          |\n",
      "|07/Aug/1995:09:11:45 -0400|/ksc.html/history/history.html                          |\n",
      "|07/Aug/1995:11:07:03 -0400|/msfc/astro_home.html/astro_home3.gif                   |\n",
      "|08/Aug/1995:22:12:20 -0400|/software/winvn/winvn.html/winvn.gif                    |\n",
      "|08/Aug/1995:22:12:20 -0400|/software/winvn/winvn.html/bluemarb.gif                 |\n",
      "|08/Aug/1995:22:12:22 -0400|/software/winvn/winvn.html/wvsmall.gif                  |\n",
      "+--------------------------+--------------------------------------------------------+\n",
      "only showing top 10 rows\n",
      "\n"
     ]
    }
   ],
   "source": [
    "access_logs_df.createOrReplaceTempView('AccessLog')\n",
    "mySql = spark.sql('SELECT dateTime, endpoint FROM AccessLog WHERE responseCode = 403')\n",
    "mySql.show(10,False)\n",
    "\n"
   ]
  },
  {
   "cell_type": "markdown",
   "metadata": {},
   "source": [
    "### Task 12: Day of Week Analysys (User Defined Functiond)\n",
    "\n",
    "We want to find out the access paterns of the users based on the day of week (Mon, Tue, ...)\n",
    "\n",
    "The logs contain only the date but we can use the `weekday()` method of the Python `datetime` module to get the day.\n",
    "\n",
    "`weekday()` returns the day of the week as an integer, where Monday is 0 and Sunday is 6 ...\n",
    "\n",
    "For example:\n"
   ]
  },
  {
   "cell_type": "code",
   "execution_count": 23,
   "metadata": {},
   "outputs": [
    {
     "data": {
      "text/plain": [
       "2"
      ]
     },
     "execution_count": 23,
     "metadata": {},
     "output_type": "execute_result"
    }
   ],
   "source": [
    "datetime.strptime('09/Aug/1995:09:22:01 -0400',DATETIME_PARSE_PATTERN).weekday()"
   ]
  },
  {
   "cell_type": "markdown",
   "metadata": {},
   "source": [
    "This is similar to the `calc_percentage`  we used above. However, there is no Spark weekday function we can use to create a column expression. In such cases, we can use the **user defined function (udf)** that creates a Column expression representing a user defined function. Udf may contain any complex calculation but must be **deterministic**.\n",
    "\n",
    "Here is a udf to calculate the day of week."
   ]
  },
  {
   "cell_type": "code",
   "execution_count": 24,
   "metadata": {},
   "outputs": [],
   "source": [
    "@udf(returnType=IntegerType())\n",
    "def weekday(date):\n",
    "    return datetime.strptime(date, DATETIME_PARSE_PATTERN).weekday()"
   ]
  },
  {
   "cell_type": "markdown",
   "metadata": {},
   "source": [
    "Note that the syntax above uses Python decorators which is a shortcut to the code in the cell below. So `weekday()` is exactly the same as `weekday2()`.\n",
    "\n",
    "Udf is a higher order function that takes a function (defined by the user) as a parameter, and returns a new function (column expression) that can be passed to Spark and takes a `Column` or column name as a parameter."
   ]
  },
  {
   "cell_type": "code",
   "execution_count": 25,
   "metadata": {},
   "outputs": [],
   "source": [
    "def _weekday(date):\n",
    "    return datetime.strptime(date, DATETIME_PARSE_PATTERN).weekday()\n",
    "\n",
    "weekday2 = udf(_weekday, IntegerType())"
   ]
  },
  {
   "cell_type": "markdown",
   "metadata": {},
   "source": [
    "Use `.withColumn()` and `weekday` to add the **dayOfWeek column**."
   ]
  },
  {
   "cell_type": "code",
   "execution_count": 26,
   "metadata": {},
   "outputs": [],
   "source": [
    "log_with_day = access_logs_df.withColumn(\"dayOfWeek\", weekday(\"dateTime\"))"
   ]
  },
  {
   "cell_type": "code",
   "execution_count": 27,
   "metadata": {},
   "outputs": [
    {
     "name": "stdout",
     "output_type": "stream",
     "text": [
      "+--------------------+---------+\n",
      "|            dateTime|dayOfWeek|\n",
      "+--------------------+---------+\n",
      "|01/Aug/1995:00:00...|        1|\n",
      "|01/Aug/1995:00:00...|        1|\n",
      "|01/Aug/1995:00:00...|        1|\n",
      "|01/Aug/1995:00:00...|        1|\n",
      "|01/Aug/1995:00:00...|        1|\n",
      "|01/Aug/1995:00:00...|        1|\n",
      "|01/Aug/1995:00:00...|        1|\n",
      "|01/Aug/1995:00:00...|        1|\n",
      "|01/Aug/1995:00:00...|        1|\n",
      "|01/Aug/1995:00:00...|        1|\n",
      "+--------------------+---------+\n",
      "only showing top 10 rows\n",
      "\n"
     ]
    }
   ],
   "source": [
    "log_with_day.select('dateTime', 'dayOfWeek').show(10)"
   ]
  },
  {
   "cell_type": "markdown",
   "metadata": {},
   "source": [
    "Then **count** the number of records for each day."
   ]
  },
  {
   "cell_type": "code",
   "execution_count": 28,
   "metadata": {},
   "outputs": [
    {
     "name": "stdout",
     "output_type": "stream",
     "text": [
      "+---------+------+\n",
      "|dayOfWeek| count|\n",
      "+---------+------+\n",
      "|        1| 94138|\n",
      "|        6| 32416|\n",
      "|        3|102632|\n",
      "|        5| 31888|\n",
      "|        4| 91114|\n",
      "|        2| 60457|\n",
      "|        0| 57355|\n",
      "+---------+------+\n",
      "\n"
     ]
    }
   ],
   "source": [
    "day_access = log_with_day.groupBy('dayOfWeek').count()\n",
    "day_access.show()"
   ]
  },
  {
   "cell_type": "markdown",
   "metadata": {},
   "source": [
    "### Task 13: Access Patterns of Gold Customers (Join)\n",
    "\n",
    "Many transformations can work with multiple columns. For example, `.select('col1', 'col2')`, `.sort('col1', 'col2')`, ...\n",
    "\n",
    "Columns can be specified by string name (`'ipAddress'`) or by `Column` object (`log_with_day.ipAddress` or `log_with_day['ipAddress']`).\n",
    "\n",
    "For example check the following:"
   ]
  },
  {
   "cell_type": "code",
   "execution_count": 29,
   "metadata": {},
   "outputs": [
    {
     "name": "stdout",
     "output_type": "stream",
     "text": [
      "+-------------------------------+---------+-----+\n",
      "|ipAddress                      |dayOfWeek|count|\n",
      "+-------------------------------+---------+-----+\n",
      "|***.novo.dk                    |2        |16   |\n",
      "|007.thegap.com                 |2        |4    |\n",
      "|03-dynamic-c.wokingham.luna.net|1        |37   |\n",
      "|07mb369b.uni-duisburg.de       |0        |6    |\n",
      "|08-dynamic-c.rotterdam.luna.net|1        |1    |\n",
      "|1.ts1.mnet.medstroms.se        |1        |15   |\n",
      "|1.ts2.mnet.medstroms.se        |5        |4    |\n",
      "|1032015.ksc.nasa.gov           |4        |6    |\n",
      "|10forward.ppp.america.com      |0        |17   |\n",
      "|11.ts1.mnet.medstroms.se       |5        |6    |\n",
      "|12.ts1.mnet.medstroms.se       |2        |1    |\n",
      "|12.ts2.mnet.medstroms.se       |4        |12   |\n",
      "|120.33.med.umich.edu           |3        |14   |\n",
      "|120cc-pc-11.cl.msu.edu         |2        |5    |\n",
      "|121.27.inmarsat.org            |0        |6    |\n",
      "|128.100.178.11                 |4        |2    |\n",
      "|128.100.180.37                 |4        |15   |\n",
      "|128.100.87.74                  |4        |6    |\n",
      "|128.101.144.178                |3        |5    |\n",
      "|128.101.155.15                 |3        |1    |\n",
      "|128.102.142.245                |3        |5    |\n",
      "|128.102.143.192                |2        |25   |\n",
      "|128.102.143.192                |3        |12   |\n",
      "|128.102.143.200                |3        |32   |\n",
      "|128.102.143.201                |3        |5    |\n",
      "|128.102.143.204                |1        |16   |\n",
      "|128.102.143.212                |3        |27   |\n",
      "|128.102.143.217                |3        |29   |\n",
      "|128.102.202.133                |3        |4    |\n",
      "|128.102.204.239                |0        |18   |\n",
      "+-------------------------------+---------+-----+\n",
      "only showing top 30 rows\n",
      "\n"
     ]
    }
   ],
   "source": [
    "log_with_day.groupBy('ipAddress', 'dayOfWeek').count().sort(log_with_day.ipAddress, log_with_day.dayOfWeek).show(30, False)"
   ]
  },
  {
   "cell_type": "markdown",
   "metadata": {},
   "source": [
    "The example above shows the day of week access pattern for each user.\n",
    "\n",
    "This is a lot of data. Instead now we want to see the day of week access patterns for our **gold customers**\n",
    "\n",
    "One way to do that is to **join** the `log_with_day` DataFrame with `gold_customers` we created before on ipAddress column using inner join. \n",
    "\n",
    "join(other, on=None, how=None)\n",
    "- Joins with another DataFrame, using the given join expression.\n",
    "\n",
    "Parameters:\t\n",
    "- other – Right side of the join\n",
    "- on – a string for the join column name, a list of column names, a join expression (Column), or a list of Columns. If on is a string or a list of strings indicating the name of the join column(s), the column(s) must exist on both sides, and this performs an equi-join.\n",
    "- how – str, default inner. Must be one of: inner, cross, outer, full, full_outer, left, left_outer, right, right_outer, left_semi, and left_anti.\n",
    "\n",
    "\n",
    "**Modify** the code in the cell above as needed and add a join before the `groupBy()`"
   ]
  },
  {
   "cell_type": "code",
   "execution_count": 30,
   "metadata": {},
   "outputs": [],
   "source": [
    "gold_access = log_with_day.join(gold_customers, \"ipAddress\").groupBy('ipAddress', \"dayOfWeek\").count().sort(\"ipAddress\", \"dayOfWeek\")"
   ]
  },
  {
   "cell_type": "code",
   "execution_count": 31,
   "metadata": {},
   "outputs": [
    {
     "name": "stdout",
     "output_type": "stream",
     "text": [
      "+----------------------+---------+-----+\n",
      "|ipAddress             |dayOfWeek|count|\n",
      "+----------------------+---------+-----+\n",
      "|163.206.89.4          |0        |142  |\n",
      "|163.206.89.4          |1        |383  |\n",
      "|163.206.89.4          |2        |428  |\n",
      "|163.206.89.4          |3        |152  |\n",
      "|163.206.89.4          |4        |314  |\n",
      "|edams.ksc.nasa.gov    |0        |263  |\n",
      "|edams.ksc.nasa.gov    |1        |617  |\n",
      "|edams.ksc.nasa.gov    |2        |271  |\n",
      "|edams.ksc.nasa.gov    |3        |461  |\n",
      "|edams.ksc.nasa.gov    |4        |441  |\n",
      "|edams.ksc.nasa.gov    |5        |29   |\n",
      "|edams.ksc.nasa.gov    |6        |18   |\n",
      "|piweba3y.prodigy.com  |0        |129  |\n",
      "|piweba3y.prodigy.com  |1        |250  |\n",
      "|piweba3y.prodigy.com  |2        |106  |\n",
      "|piweba3y.prodigy.com  |3        |219  |\n",
      "|piweba3y.prodigy.com  |4        |207  |\n",
      "|piweba3y.prodigy.com  |5        |141  |\n",
      "|piweba3y.prodigy.com  |6        |220  |\n",
      "|piweba5y.prodigy.com  |0        |102  |\n",
      "|piweba5y.prodigy.com  |1        |258  |\n",
      "|piweba5y.prodigy.com  |2        |208  |\n",
      "|piweba5y.prodigy.com  |3        |403  |\n",
      "|piweba5y.prodigy.com  |4        |403  |\n",
      "|piweba5y.prodigy.com  |5        |307  |\n",
      "|piweba5y.prodigy.com  |6        |74   |\n",
      "|www-a2.proxy.aol.com  |0        |128  |\n",
      "|www-a2.proxy.aol.com  |1        |132  |\n",
      "|www-a2.proxy.aol.com  |2        |144  |\n",
      "|www-a2.proxy.aol.com  |3        |286  |\n",
      "|www-a2.proxy.aol.com  |4        |162  |\n",
      "|www-a2.proxy.aol.com  |5        |228  |\n",
      "|www-a2.proxy.aol.com  |6        |202  |\n",
      "|www-b4.proxy.aol.com  |0        |138  |\n",
      "|www-b4.proxy.aol.com  |1        |180  |\n",
      "|www-b4.proxy.aol.com  |2        |105  |\n",
      "|www-b4.proxy.aol.com  |3        |295  |\n",
      "|www-b4.proxy.aol.com  |4        |195  |\n",
      "|www-b4.proxy.aol.com  |5        |165  |\n",
      "|www-b4.proxy.aol.com  |6        |191  |\n",
      "|www-b5.proxy.aol.com  |0        |54   |\n",
      "|www-b5.proxy.aol.com  |1        |187  |\n",
      "|www-b5.proxy.aol.com  |2        |272  |\n",
      "|www-b5.proxy.aol.com  |3        |289  |\n",
      "|www-b5.proxy.aol.com  |4        |105  |\n",
      "|www-b5.proxy.aol.com  |5        |131  |\n",
      "|www-b5.proxy.aol.com  |6        |254  |\n",
      "|www-d1.proxy.aol.com  |0        |182  |\n",
      "|www-d1.proxy.aol.com  |1        |276  |\n",
      "|www-d1.proxy.aol.com  |2        |175  |\n",
      "|www-d1.proxy.aol.com  |3        |238  |\n",
      "|www-d1.proxy.aol.com  |4        |179  |\n",
      "|www-d1.proxy.aol.com  |5        |96   |\n",
      "|www-d1.proxy.aol.com  |6        |172  |\n",
      "|www-d2.proxy.aol.com  |0        |97   |\n",
      "|www-d2.proxy.aol.com  |1        |260  |\n",
      "|www-d2.proxy.aol.com  |2        |179  |\n",
      "|www-d2.proxy.aol.com  |3        |226  |\n",
      "|www-d2.proxy.aol.com  |4        |105  |\n",
      "|www-d2.proxy.aol.com  |5        |105  |\n",
      "|www-d2.proxy.aol.com  |6        |288  |\n",
      "|www-relay.pa-x.dec.com|0        |56   |\n",
      "|www-relay.pa-x.dec.com|1        |450  |\n",
      "|www-relay.pa-x.dec.com|2        |246  |\n",
      "|www-relay.pa-x.dec.com|3        |233  |\n",
      "|www-relay.pa-x.dec.com|4        |334  |\n",
      "|www-relay.pa-x.dec.com|5        |3    |\n",
      "|www-relay.pa-x.dec.com|6        |11   |\n",
      "+----------------------+---------+-----+\n",
      "\n"
     ]
    }
   ],
   "source": [
    "gold_access.show(10*7, False)"
   ]
  },
  {
   "cell_type": "markdown",
   "metadata": {},
   "source": [
    "### Not Task 14: Visualization and Other Platforms\n",
    "\n",
    "There exists many powerful data analytics tools such as [pandas](http://pandas.pydata.org/) that are not distributed (works on a single machine).\n",
    "\n",
    "A common analytics pattern is to use Spark to extract useful information from Big Data then continue working with the \"small data\" locally.\n",
    "\n",
    "Spark we can use spark to convert a DataFrame to a Pandas DataFrame."
   ]
  },
  {
   "cell_type": "code",
   "execution_count": 32,
   "metadata": {},
   "outputs": [
    {
     "data": {
      "text/html": [
       "<div>\n",
       "<table border=\"1\" class=\"dataframe\">\n",
       "  <thead>\n",
       "    <tr style=\"text-align: right;\">\n",
       "      <th></th>\n",
       "      <th>count</th>\n",
       "    </tr>\n",
       "  </thead>\n",
       "  <tbody>\n",
       "    <tr>\n",
       "      <th>0</th>\n",
       "      <td>57355</td>\n",
       "    </tr>\n",
       "    <tr>\n",
       "      <th>1</th>\n",
       "      <td>94138</td>\n",
       "    </tr>\n",
       "    <tr>\n",
       "      <th>2</th>\n",
       "      <td>60457</td>\n",
       "    </tr>\n",
       "    <tr>\n",
       "      <th>3</th>\n",
       "      <td>102632</td>\n",
       "    </tr>\n",
       "    <tr>\n",
       "      <th>4</th>\n",
       "      <td>91114</td>\n",
       "    </tr>\n",
       "    <tr>\n",
       "      <th>5</th>\n",
       "      <td>31888</td>\n",
       "    </tr>\n",
       "    <tr>\n",
       "      <th>6</th>\n",
       "      <td>32416</td>\n",
       "    </tr>\n",
       "  </tbody>\n",
       "</table>\n",
       "</div>"
      ],
      "text/plain": [
       "    count\n",
       "0   57355\n",
       "1   94138\n",
       "2   60457\n",
       "3  102632\n",
       "4   91114\n",
       "5   31888\n",
       "6   32416"
      ]
     },
     "execution_count": 32,
     "metadata": {},
     "output_type": "execute_result"
    }
   ],
   "source": [
    "pandas_df = day_access.sort('dayOfWeek').select('count').toPandas()\n",
    "pandas_df"
   ]
  },
  {
   "cell_type": "markdown",
   "metadata": {},
   "source": [
    "Then, for example, we can use Pandas to easily visualize our data."
   ]
  },
  {
   "cell_type": "code",
   "execution_count": 33,
   "metadata": {},
   "outputs": [
    {
     "data": {
      "text/plain": [
       "<matplotlib.axes._subplots.AxesSubplot at 0x7fe4cbe61828>"
      ]
     },
     "execution_count": 33,
     "metadata": {},
     "output_type": "execute_result"
    },
    {
     "data": {
      "image/png": "[encoded data removed]",
      "text/plain": [
       "<matplotlib.figure.Figure at 0x7fe4fcfb9748>"
      ]
     },
     "metadata": {},
     "output_type": "display_data"
    }
   ],
   "source": [
    "%matplotlib inline \n",
    "pandas_df.plot.bar()"
   ]
  },
  {
   "cell_type": "markdown",
   "metadata": {},
   "source": [
    "### Task 15: (Optional)\n",
    "\n",
    "Do you have other interesting analytics to do on the log data? Try it below!"
   ]
  },
  {
   "cell_type": "code",
   "execution_count": 34,
   "metadata": {},
   "outputs": [
    {
     "data": {
      "text/plain": [
       "<matplotlib.axes._subplots.AxesSubplot at 0x7fe4cbbcd0f0>"
      ]
     },
     "execution_count": 34,
     "metadata": {},
     "output_type": "execute_result"
    },
    {
     "data": {
      "image/png": "[encoded data removed]",
      "text/plain": [
       "<matplotlib.figure.Figure at 0x7fe4cbb39b70>"
      ]
     },
     "metadata": {},
     "output_type": "display_data"
    }
   ],
   "source": [
    "data = access_logs_df.select(\"contentSize\").toPandas()\n",
    "data.plot.kde()"
   ]
  },
  {
   "cell_type": "code",
   "execution_count": null,
   "metadata": {},
   "outputs": [],
   "source": []
  }
 ],
 "metadata": {
  "kernelspec": {
   "display_name": "Python 3",
   "language": "python",
   "name": "python3"
  },
  "language_info": {
   "codemirror_mode": {
    "name": "ipython",
    "version": 3
   },
   "file_extension": ".py",
   "mimetype": "text/x-python",
   "name": "python",
   "nbconvert_exporter": "python",
   "pygments_lexer": "ipython3",
   "version": "3.6.2"
  }
 },
 "nbformat": 4,
 "nbformat_minor": 2
}
